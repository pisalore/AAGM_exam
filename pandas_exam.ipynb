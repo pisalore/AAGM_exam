{
 "cells": [
  {
   "cell_type": "markdown",
   "source": [
    "### Advanced Algorithm and Graph Mining Exam\n",
    "#### Part II - Pandas\n",
    "\n",
    "In this Jupyter Notebook, COVID-19 data (from regions and provinces\n",
    "in Italy) are analyzed to visualize some useful information about the\n",
    "pandemic which has upset the world. This data inspection is powered by\n",
    "Pandas."
   ],
   "metadata": {
    "collapsed": false
   }
  },
  {
   "cell_type": "markdown",
   "source": [
    "Load JSON data. Data are up to date."
   ],
   "metadata": {
    "collapsed": false
   }
  },
  {
   "cell_type": "code",
   "execution_count": 17,
   "outputs": [
    {
     "name": "stdout",
     "output_type": "stream",
     "text": [
      "1.19.0\n",
      "{'dirty': False, 'error': None, 'full-revisionid': 'b687cd4d9e520666a956a60849568a98dd00c672', 'version': '1.0.5'}\n"
     ]
    }
   ],
   "source": [
    "import json\n",
    "import numpy as np\n",
    "import pandas as pd\n",
    "\n",
    "with open('dpc-covid19-ita-province.json') as json_provinces_data:\n",
    "        provinces_data = json.load(json_provinces_data)\n",
    "with open('dpc-covid19-ita-regioni.json') as json_regions_data:\n",
    "        regions_data = json.load(json_regions_data)\n",
    "\n"
   ],
   "metadata": {
    "collapsed": false,
    "pycharm": {
     "name": "#%%\n"
    }
   }
  },
  {
   "cell_type": "code",
   "execution_count": null,
   "metadata": {},
   "outputs": [],
   "source": []
  }
 ],
 "metadata": {
  "kernelspec": {
   "display_name": "Python 3",
   "language": "python",
   "name": "python3"
  },
  "language_info": {
   "codemirror_mode": {
    "name": "ipython",
    "version": 3
   },
   "file_extension": ".py",
   "mimetype": "text/x-python",
   "name": "python",
   "nbconvert_exporter": "python",
   "pygments_lexer": "ipython3",
   "version": "3.7.5"
  }
 },
 "nbformat": 4,
 "nbformat_minor": 1
}