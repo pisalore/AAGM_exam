{
 "cells": [
  {
   "cell_type": "markdown",
   "metadata": {
    "slideshow": {
     "slide_type": "slide"
    }
   },
   "source": [
    "<p style=\"text-align:right\"> July 15, 2020 </p>\n"
   ]
  },
  {
   "cell_type": "markdown",
   "metadata": {
    "pycharm": {
     "name": "#%% md\n"
    }
   },
   "source": [
    "<h1 align=center>Advanced Algorithm and Graph Mining Exam</h1>\n",
    "<h2 align=center>An implementation of Floyd-Warshal Algorithm and the Clustering coefficent on Italian Provinces Graph</h1>\n",
    "\n",
    "<br>\n"
   ]
  },
  {
   "cell_type": "code",
   "execution_count": 10,
   "metadata": {
    "pycharm": {
     "name": "#%%\n"
    }
   },
   "outputs": [],
   "source": [
    "__AUTHOR__ = {'lp': (\"Lorenzo Pisaneschi\",\n",
    "                    \"lorenzo.pisaneschi1@stud.unifi.it\",\n",
    "                     \"https://github.com/pisalore/AAGM_exam\")}\n",
    "\n",
    "__TOPICS__ = ['Graphs algorithms', 'Data Analysis']\n",
    "\n",
    "\n",
    "__KEYWORDS__ = ['Python', 'Jupyter', 'Graphs', 'NetworkX', 'pandas',]"
   ]
  },
  {
   "cell_type": "markdown",
   "metadata": {
    "slideshow": {
     "slide_type": "slide"
    }
   },
   "source": [
    "<h1>Introduction</h1>\n",
    "<br>\n",
    "Big Data are everywhere. For this reason we must know them and know how to read and manage them in order to obtain\n",
    "useful information for our community. This concept is stronger during such an event as a pandemic as we are living just\n",
    "now with the COVID-19 caused by the new SARS-CoV-2.\n"
   ]
  },
  {
   "cell_type": "markdown",
   "metadata": {
    "slideshow": {
     "slide_type": "slide"
    }
   },
   "source": [
    "<h1>Main topics</h1>\n",
    "\n",
    "In this work I present two main topic:\n",
    "<ul>\n",
    "    <li> Graphs generation and graphs' algorithms application with NetworkX\n",
    "    <li> Data analysis with Pandas\n",
    "</ul>\n",
    "\n",
    "Both of them are based on official Italian CIvil Protection COVID-19 data.\n",
    "\n",
    "In the first part, Italian provinces graphs and some random dimension graphs are build. They will be used to run two\n",
    "algorithms, the Floyd-Warshal algorithm and one which computes graphs' clustering coefficient.\n",
    "In the second part, Italian COVID-19 pandemic evolution is investigated thank to Pandas, Matplotlib and Geopandas, which\n",
    "are very powerful Python's modules for Data Analysis."
   ]
  },
  {
   "cell_type": "markdown",
   "metadata": {
    "pycharm": {
     "name": "#%% md\n"
    },
    "slideshow": {
     "slide_type": "slide"
    }
   },
   "source": [
    "<h1>Data format</h1>\n",
    "\n",
    "Data of interest are the one related to Italian Regions and Provinces. Both are available in JSON format and one \n",
    "completes the other: information about Provinces make Region Data analysis more exhaustive.\n",
    "\n"
   ]
  },
  {
   "cell_type": "markdown",
   "metadata": {
    "slideshow": {
     "slide_type": "subslide"
    }
   },
   "source": [
    "<h2>Example: Region JSON object</h2>\n",
    "<br>\n",
    "\n",
    "```json\n",
    "{\n",
    "        \"data\": \"2020-06-25T17:00:00\",\n",
    "        \"stato\": \"ITA\",\n",
    "        \"codice_regione\": 9,\n",
    "        \"denominazione_regione\": \"Toscana\",\n",
    "        \"lat\": 43.76923077,\n",
    "        \"long\": 11.25588885,\n",
    "        \"ricoverati_con_sintomi\": 24,\n",
    "        \"terapia_intensiva\": 6,\n",
    "        \"totale_ospedalizzati\": 30,\n",
    "        \"isolamento_domiciliare\": 294,\n",
    "        \"totale_positivi\": 324,\n",
    "        \"variazione_totale_positivi\": -6,\n",
    "        \"nuovi_positivi\": 2,\n",
    "        \"dimessi_guariti\": 8799,\n",
    "        \"deceduti\": 1101,\n",
    "        \"casi_da_sospetto_diagnostico\": 10107,\n",
    "        \"casi_da_screening\": 117,\n",
    "        \"totale_casi\": 10224,\n",
    "        \"tamponi\": 323864,\n",
    "        \"casi_testati\": 222294\n",
    "}\n",
    "\n",
    "```"
   ]
  },
  {
   "cell_type": "markdown",
   "metadata": {
    "pycharm": {
     "name": "#%% md\n"
    },
    "slideshow": {
     "slide_type": "subslide"
    }
   },
   "source": [
    "<h2>Example: Province JSON object</h2>\n",
    "<br>\n",
    "\n",
    "```json\n",
    "{\n",
    "        \"data\": \"2020-06-25T17:00:00\",\n",
    "        \"stato\": \"ITA\",\n",
    "        \"codice_regione\": 9,\n",
    "        \"denominazione_regione\": \"Toscana\",\n",
    "        \"codice_provincia\": 47,\n",
    "        \"denominazione_provincia\": \"Pistoia\",\n",
    "        \"sigla_provincia\": \"PT\",\n",
    "        \"lat\": 43.933465,\n",
    "        \"long\": 10.91734146,\n",
    "        \"totale_casi\": 743\n",
    "    }\n",
    "\n",
    "```"
   ]
  }
 ],
 "metadata": {
  "celltoolbar": "Slideshow",
  "kernelspec": {
   "display_name": "Python 3",
   "language": "python",
   "name": "python3"
  },
  "language_info": {
   "codemirror_mode": {
    "name": "ipython",
    "version": 3
   },
   "file_extension": ".py",
   "mimetype": "text/x-python",
   "name": "python",
   "nbconvert_exporter": "python",
   "pygments_lexer": "ipython3",
   "version": "3.7.5"
  }
 },
 "nbformat": 4,
 "nbformat_minor": 1
}